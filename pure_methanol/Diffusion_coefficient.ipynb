{
 "cells": [
  {
   "cell_type": "code",
   "execution_count": 43,
   "id": "f1806e18",
   "metadata": {},
   "outputs": [
    {
     "name": "stderr",
     "output_type": "stream",
     "text": [
      "/Users/ziyuanzhao/opt/anaconda3/envs/openmm2/lib/python3.9/site-packages/mdtraj/core/trajectory.py:438: UserWarning: top= kwargs ignored since this file parser does not support it\n",
      "  warnings.warn('top= kwargs ignored since this file parser does not support it')\n"
     ]
    }
   ],
   "source": [
    "# Avg(Var(X(t) - X(0))) = 2Dt, where D is the microscopic diffusion coefficient\n",
    "\n",
    "# we take average over all particles\n",
    "\n",
    "import mdtraj\n",
    "import numpy as np\n",
    "\n",
    "traj = mdtraj.load('production.h5')\n"
   ]
  },
  {
   "cell_type": "code",
   "execution_count": 107,
   "id": "bb7183fd",
   "metadata": {},
   "outputs": [],
   "source": [
    "mu_dx2_arr = []\n",
    "dt_arr = []\n",
    "for dt in range(0, 500, 5):\n",
    "    t0 = 500\n",
    "    t1 = t0 + dt\n",
    "    dx = traj.xyz[t1, :, :] - traj.xyz[t0, :, :]\n",
    "    dx2 = np.einsum('ij,ij->i', dx, dx)\n",
    "    mu_dx2_arr.append(np.mean(dx2))\n",
    "    dt_arr.append(dt)\n"
   ]
  },
  {
   "cell_type": "code",
   "execution_count": 109,
   "id": "fc7f4088",
   "metadata": {},
   "outputs": [
    {
     "data": {
      "text/plain": [
       "Text(0, 0.5, 'MSD (1e-18 m^2)')"
      ]
     },
     "execution_count": 109,
     "metadata": {},
     "output_type": "execute_result"
    },
    {
     "data": {
      "image/png": "[encoded data removed]",
      "text/plain": [
       "<Figure size 432x288 with 1 Axes>"
      ]
     },
     "metadata": {
      "needs_background": "light"
     },
     "output_type": "display_data"
    }
   ],
   "source": [
    "import matplotlib.pyplot as plt\n",
    "\n",
    "plt.plot(dt_arr[:], mu_dx2_arr[:])\n",
    "plt.xlabel('dt (ps)')\n",
    "plt.ylabel('MSD (1e-18 m^2)')"
   ]
  },
  {
   "cell_type": "code",
   "execution_count": 118,
   "id": "7fc99f0e",
   "metadata": {},
   "outputs": [
    {
     "name": "stdout",
     "output_type": "stream",
     "text": [
      "1.3701446785069857 33.094391370763844 0.9963905795850271 8.574802998081695e-107 0.011791397191342288\n"
     ]
    }
   ],
   "source": [
    "from scipy import stats\n",
    "slope, intercept, r_value, p_value, std_err = stats.linregress(dt_arr, [r*100 for r in mu_dx2_arr])\n",
    "print(slope, intercept, r_value, p_value, std_err)"
   ]
  },
  {
   "cell_type": "code",
   "execution_count": 32,
   "id": "51e087ed",
   "metadata": {},
   "outputs": [],
   "source": [
    "traj.save('movie.pdb')"
   ]
  },
  {
   "cell_type": "code",
   "execution_count": 39,
   "id": "9cf131ca",
   "metadata": {},
   "outputs": [
    {
     "data": {
      "text/plain": [
       "array([[-1.0622807 ,  1.151521  ,  0.9443276 ],\n",
       "       [-0.88917124,  1.1812928 ,  1.1462727 ],\n",
       "       [-0.98108256,  1.0557371 ,  0.7706889 ],\n",
       "       ...,\n",
       "       [ 1.5659909 , -0.13706315, -0.8063883 ],\n",
       "       [ 1.4989709 ,  0.05270922, -0.6922876 ],\n",
       "       [ 1.4830246 , -0.21553719, -0.46527147]], dtype=float32)"
      ]
     },
     "execution_count": 39,
     "metadata": {},
     "output_type": "execute_result"
    }
   ],
   "source": [
    "dx"
   ]
  },
  {
   "cell_type": "code",
   "execution_count": 40,
   "id": "16f36927",
   "metadata": {},
   "outputs": [
    {
     "data": {
      "text/plain": [
       "array([3.3461952, 3.500019 , 2.6710653, ..., 3.1213758, 2.728954 ,\n",
       "       2.462296 ], dtype=float32)"
      ]
     },
     "execution_count": 40,
     "metadata": {},
     "output_type": "execute_result"
    }
   ],
   "source": [
    "dx2"
   ]
  },
  {
   "cell_type": "code",
   "execution_count": 84,
   "id": "dab6a927",
   "metadata": {},
   "outputs": [
    {
     "data": {
      "image/png": "[encoded data removed]",
      "text/plain": [
       "<Figure size 432x288 with 9 Axes>"
      ]
     },
     "metadata": {
      "needs_background": "light"
     },
     "output_type": "display_data"
    }
   ],
   "source": [
    "f, ax = plt.subplots(3,3)\n",
    "\n",
    "for dt in range(9):\n",
    "    t0 = 500\n",
    "    t1 = t0 + (dt+1) * 50\n",
    "    dx = traj.xyz[t1, :, :] - traj.xyz[t0, :, :]\n",
    "    dx2 = np.einsum('ij,ij->i', dx, dx)\n",
    "    ax[dt%3, dt//3].hist(dx2**(1/2))"
   ]
  },
  {
   "cell_type": "code",
   "execution_count": 93,
   "id": "cac12b84",
   "metadata": {},
   "outputs": [],
   "source": [
    "dx=traj.xyz[1:,:,0]-traj.xyz[:-1,:,0]\n",
    "L=2\n",
    "eps=L/2\n",
    "dx_corr=dx-L*(np.sign(dx)*((np.abs(dx)-eps)>0))\n",
    "\n",
    "for i in range(3)\n"
   ]
  },
  {
   "cell_type": "code",
   "execution_count": 106,
   "id": "c806d346",
   "metadata": {},
   "outputs": [],
   "source": [
    "L=2 # nm\n",
    "eps=L/2\n",
    "for i in range(3):\n",
    "    dxi = traj.xyz[1:,:,i]-traj.xyz[:-1,:,i]\n",
    "    dx_corr=dx-L*(np.sign(dx)*((np.abs(dx)-eps)>0))\n",
    "    xi_corr = np.cumsum(np.concatenate((traj.xyz[0:1,:,i], dx_corr)), axis=0)\n",
    "    traj.xyz[:,:,i] = xi_corr"
   ]
  },
  {
   "cell_type": "code",
   "execution_count": 104,
   "id": "e1233d3d",
   "metadata": {},
   "outputs": [
    {
     "data": {
      "text/plain": [
       "(1, 1500)"
      ]
     },
     "execution_count": 104,
     "metadata": {},
     "output_type": "execute_result"
    }
   ],
   "source": [
    "traj.xyz[0:1,:,i].shape"
   ]
  },
  {
   "cell_type": "code",
   "execution_count": 95,
   "id": "176291ae",
   "metadata": {},
   "outputs": [
    {
     "data": {
      "text/plain": [
       "(array([   659.,  10787.,  18928., 114473., 602211., 605973., 116365.,\n",
       "         18978.,  10953.,    673.]),\n",
       " array([-8.8905382e-01, -7.1136594e-01, -5.3367811e-01, -3.5599023e-01,\n",
       "        -1.7830238e-01, -6.1452389e-04,  1.7707333e-01,  3.5476118e-01,\n",
       "         5.3244907e-01,  7.1013689e-01,  8.8782477e-01], dtype=float32),\n",
       " <BarContainer object of 10 artists>)"
      ]
     },
     "execution_count": 95,
     "metadata": {},
     "output_type": "execute_result"
    },
    {
     "data": {
      "image/png": "[encoded data removed]",
      "text/plain": [
       "<Figure size 432x288 with 1 Axes>"
      ]
     },
     "metadata": {
      "needs_background": "light"
     },
     "output_type": "display_data"
    }
   ],
   "source": [
    "plt.hist(dx_corr.flatten())"
   ]
  },
  {
   "cell_type": "code",
   "execution_count": null,
   "id": "2c9027d2",
   "metadata": {},
   "outputs": [],
   "source": []
  }
 ],
 "metadata": {
  "kernelspec": {
   "display_name": "Python [conda env:openmm2]",
   "language": "python",
   "name": "conda-env-openmm2-py"
  },
  "language_info": {
   "codemirror_mode": {
    "name": "ipython",
    "version": 3
   },
   "file_extension": ".py",
   "mimetype": "text/x-python",
   "name": "python",
   "nbconvert_exporter": "python",
   "pygments_lexer": "ipython3",
   "version": "3.9.12"
  }
 },
 "nbformat": 4,
 "nbformat_minor": 5
}
