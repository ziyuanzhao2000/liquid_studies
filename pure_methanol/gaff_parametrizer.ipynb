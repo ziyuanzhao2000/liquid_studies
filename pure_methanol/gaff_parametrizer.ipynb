{
 "cells": [
  {
   "cell_type": "code",
   "execution_count": 1,
   "id": "24964897",
   "metadata": {},
   "outputs": [
    {
     "name": "stderr",
     "output_type": "stream",
     "text": [
      "Warning: Unable to load toolkit 'OpenEye Toolkit'. The Open Force Field Toolkit does not require the OpenEye Toolkits, and can use RDKit/AmberTools instead. However, if you have a valid license for the OpenEye Toolkits, consider installing them for faster performance and additional file format support: https://docs.eyesopen.com/toolkits/python/quickstart-python/linuxosx.html OpenEye offers free Toolkit licenses for academics: https://www.eyesopen.com/academic-licensing\n",
      "Warning: importing 'simtk.openmm' is deprecated.  Import 'openmm' instead.\n"
     ]
    }
   ],
   "source": [
    "# the following copied from https://github.com/openmm/openmmforcefields\n",
    "\n",
    "# Create an OpenFF Molecule object for benzene from SMILES\n",
    "from openff.toolkit.topology import Molecule\n",
    "molecule = Molecule.from_smiles('CO')\n",
    "\n",
    "# Create the GAFF template generator\n",
    "from openmmforcefields.generators import GAFFTemplateGenerator\n",
    "gaff = GAFFTemplateGenerator(molecules=molecule)\n",
    "\n",
    "# Create an OpenMM ForceField object with AMBER ff14SB and TIP3P with compatible ions\n",
    "from simtk.openmm.app import ForceField\n",
    "forcefield = ForceField('amber/ff14SB.xml')\n",
    "\n",
    "# Register the GAFF template generator\n",
    "forcefield.registerTemplateGenerator(gaff.generator)\n",
    "\n",
    "# You can now parameterize an OpenMM Topology object that contains the specified molecule.\n",
    "# forcefield will load the appropriate GAFF parameters when needed, and antechamber\n",
    "# will be used to generate small molecule parameters on the fly.\n",
    "from simtk.openmm.app import PDBFile\n",
    "pdbfile = PDBFile('equilibrated.pdb')\n",
    "\n",
    "# system = forcefield.createSystem(pdbfile.topology)\n"
   ]
  },
  {
   "cell_type": "code",
   "execution_count": 2,
   "id": "1aae94a6",
   "metadata": {},
   "outputs": [
    {
     "data": {
      "text/plain": [
       "<mdtools.prep.mdsystem.MDSystem at 0x7fe89891ed90>"
      ]
     },
     "execution_count": 2,
     "metadata": {},
     "output_type": "execute_result"
    }
   ],
   "source": [
    "from mdtools import MDSystem\n",
    "from simtk.unit import *\n",
    "\n",
    "mdsystem = MDSystem(pdbfile.topology, pdbfile.positions, forcefield)\n",
    "mdsystem.buildSimulation(posre=True)"
   ]
  },
  {
   "cell_type": "code",
   "execution_count": 4,
   "id": "46c27b18",
   "metadata": {},
   "outputs": [],
   "source": [
    "from atomsmm.reporters import ExtendedStateDataReporter\n",
    "from atomsmm.computers import PressureComputer\n",
    "from simtk.openmm import Platform\n",
    "\n",
    "current_platform = mdsystem.simulation.context.getPlatform()\n",
    "reference_platform = Platform.getPlatformByName('Reference')\n",
    "mdsystem.simulation.reporters.append(ExtendedStateDataReporter(\\\n",
    "                                    f\"extended.csv\", 500,\n",
    "                                    molecularPressure=True,\n",
    "                                    pressureComputer=PressureComputer(mdsystem.simulation.system, \n",
    "                                                                      mdsystem.getTopology(),\n",
    "                                                                      reference_platform)))\n",
    "\n"
   ]
  },
  {
   "cell_type": "code",
   "execution_count": null,
   "id": "65cda5e5",
   "metadata": {},
   "outputs": [],
   "source": [
    "mdsystem.simulation.reporters = mdsystem.simulation.reporters[:-1]"
   ]
  },
  {
   "cell_type": "code",
   "execution_count": null,
   "id": "5db39e1a",
   "metadata": {},
   "outputs": [],
   "source": [
    "%%time\n",
    "mdsystem.equilibrate(0.01*nanoseconds, posre=True)"
   ]
  },
  {
   "cell_type": "code",
   "execution_count": null,
   "id": "d533886d",
   "metadata": {},
   "outputs": [],
   "source": [
    "mdsystem.save('equilibrated.pdb')"
   ]
  },
  {
   "cell_type": "code",
   "execution_count": 3,
   "id": "d75b165a",
   "metadata": {},
   "outputs": [
    {
     "data": {
      "text/plain": [
       "<mdtools.prep.mdsystem.MDSystem at 0x7fe8b84851f0>"
      ]
     },
     "execution_count": 3,
     "metadata": {},
     "output_type": "execute_result"
    }
   ],
   "source": [
    "from mdtools import MDSystem\n",
    "from simtk.unit import *\n",
    "\n",
    "mdsystem = MDSystem(pdbfile.topology, pdbfile.positions, forcefield)\n",
    "mdsystem.buildSimulation(filePrefix=f\"production1\", ensemble='NPT',\n",
    "                         saveTrajectory=True, trajInterval=500, saveVelocities=True,\n",
    "                         saveStateData=True, stateDataInterval=500)"
   ]
  },
  {
   "cell_type": "code",
   "execution_count": 5,
   "id": "dc75dfdc",
   "metadata": {},
   "outputs": [
    {
     "name": "stdout",
     "output_type": "stream",
     "text": [
      "CPU times: user 7 µs, sys: 3 µs, total: 10 µs\n",
      "Wall time: 20 µs\n"
     ]
    },
    {
     "data": {
      "text/plain": [
       "<mdtools.prep.mdsystem.MDSystem at 0x7fe8b84851f0>"
      ]
     },
     "execution_count": 5,
     "metadata": {},
     "output_type": "execute_result"
    }
   ],
   "source": [
    "%time\n",
    "mdsystem.simulate(1000*picoseconds)"
   ]
  },
  {
   "cell_type": "code",
   "execution_count": 16,
   "id": "5f4fccc9",
   "metadata": {},
   "outputs": [],
   "source": [
    "mdsystem.save('NPT_1ns.pdb')"
   ]
  },
  {
   "cell_type": "code",
   "execution_count": 18,
   "id": "3178258e",
   "metadata": {},
   "outputs": [
    {
     "data": {
      "text/plain": [
       "<mdtools.prep.mdsystem.MDSystem at 0x7fe8b84851f0>"
      ]
     },
     "execution_count": 18,
     "metadata": {},
     "output_type": "execute_result"
    }
   ],
   "source": [
    "mdsystem.buildSimulation(filePrefix=f\"production\", saveTrajectory=True, \n",
    "                         trajInterval=500, saveStateData=True, stateDataInterval=500)"
   ]
  },
  {
   "cell_type": "code",
   "execution_count": 19,
   "id": "dfd039be",
   "metadata": {},
   "outputs": [
    {
     "data": {
      "text/plain": [
       "<mdtools.prep.mdsystem.MDSystem at 0x7fe8b84851f0>"
      ]
     },
     "execution_count": 19,
     "metadata": {},
     "output_type": "execute_result"
    }
   ],
   "source": [
    "mdsystem.simulate(1000*picoseconds)"
   ]
  },
  {
   "cell_type": "code",
   "execution_count": 6,
   "id": "2f34786b",
   "metadata": {},
   "outputs": [],
   "source": [
    "import numpy as np\n",
    "\n",
    "molecular_pressure_data = np.genfromtxt('extended.csv', skip_header=True)"
   ]
  },
  {
   "cell_type": "code",
   "execution_count": 15,
   "id": "0dc0dc06",
   "metadata": {},
   "outputs": [
    {
     "data": {
      "text/plain": [
       "-30.458974807156984"
      ]
     },
     "execution_count": 15,
     "metadata": {},
     "output_type": "execute_result"
    }
   ],
   "source": [
    "np.mean(molecular_pressure_data[:-200])"
   ]
  },
  {
   "cell_type": "code",
   "execution_count": 20,
   "id": "b13a16ca",
   "metadata": {},
   "outputs": [],
   "source": [
    "for reporter in mdsystem.simulation.reporters:\n",
    "    try:\n",
    "        reporter.close()\n",
    "    except:\n",
    "        continue"
   ]
  },
  {
   "cell_type": "code",
   "execution_count": null,
   "id": "da95197a",
   "metadata": {},
   "outputs": [],
   "source": []
  }
 ],
 "metadata": {
  "kernelspec": {
   "display_name": "Python [conda env:openmm2]",
   "language": "python",
   "name": "conda-env-openmm2-py"
  },
  "language_info": {
   "codemirror_mode": {
    "name": "ipython",
    "version": 3
   },
   "file_extension": ".py",
   "mimetype": "text/x-python",
   "name": "python",
   "nbconvert_exporter": "python",
   "pygments_lexer": "ipython3",
   "version": "3.9.12"
  }
 },
 "nbformat": 4,
 "nbformat_minor": 5
}
