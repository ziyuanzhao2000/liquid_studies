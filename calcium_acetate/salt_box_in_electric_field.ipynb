{
 "cells": [
  {
   "cell_type": "code",
   "execution_count": 1,
   "id": "31393b72",
   "metadata": {},
   "outputs": [
    {
     "name": "stderr",
     "output_type": "stream",
     "text": [
      "Warning: Unable to load toolkit 'OpenEye Toolkit'. The Open Force Field Toolkit does not require the OpenEye Toolkits, and can use RDKit/AmberTools instead. However, if you have a valid license for the OpenEye Toolkits, consider installing them for faster performance and additional file format support: https://docs.eyesopen.com/toolkits/python/quickstart-python/linuxosx.html OpenEye offers free Toolkit licenses for academics: https://www.eyesopen.com/academic-licensing\n",
      "Warning: importing 'simtk.openmm' is deprecated.  Import 'openmm' instead.\n"
     ]
    }
   ],
   "source": [
    "# the following copied from https://github.com/openmm/openmmforcefields\n",
    "\n",
    "# Create an OpenFF Molecule object for benzene from SMILES\n",
    "from openff.toolkit.topology import Molecule\n",
    "molecule = Molecule.from_smiles('CC(=O)[O-]')\n",
    "\n",
    "# Create the GAFF template generator\n",
    "from openmmforcefields.generators import GAFFTemplateGenerator\n",
    "gaff = GAFFTemplateGenerator(molecules=molecule)\n",
    "\n",
    "# Create an OpenMM ForceField object with AMBER ff14SB and TIP3P with compatible ions\n",
    "from simtk.openmm.app import ForceField\n",
    "forcefield = ForceField('amber/ff14SB.xml', 'amber/tip3p_standard.xml')\n",
    "\n",
    "# Register the GAFF template generator\n",
    "forcefield.registerTemplateGenerator(gaff.generator)"
   ]
  },
  {
   "cell_type": "code",
   "execution_count": 4,
   "id": "471d6c1b",
   "metadata": {},
   "outputs": [],
   "source": [
    "# You can now parameterize an OpenMM Topology object that contains the specified molecule.\n",
    "# forcefield will load the appropriate GAFF parameters when needed, and antechamber\n",
    "# will be used to generate small molecule parameters on the fly.\n",
    "from simtk.openmm.app import PDBFile\n",
    "pdbfile = PDBFile('mixture.pdb')\n",
    "\n",
    "#system = forcefield.createSystem(pdbfile.topology)"
   ]
  },
  {
   "cell_type": "code",
   "execution_count": 5,
   "id": "695728db",
   "metadata": {},
   "outputs": [
    {
     "data": {
      "text/plain": [
       "<mdtools.prep.mdsystem.MDSystem at 0x7ff6e5fe0700>"
      ]
     },
     "execution_count": 5,
     "metadata": {},
     "output_type": "execute_result"
    }
   ],
   "source": [
    "# initialize the MD system with gaff-parametrized forcefield + amber ions ff\n",
    "from mdtools import MDSystem\n",
    "from simtk.unit import *\n",
    "\n",
    "mdsystem = MDSystem(pdbfile.topology, pdbfile.positions, forcefield)\n",
    "mdsystem.buildSimulation(posre=True)"
   ]
  },
  {
   "cell_type": "code",
   "execution_count": null,
   "id": "6c569c4e",
   "metadata": {},
   "outputs": [],
   "source": [
    "mdsystem.equilibrate(100*picoseconds)"
   ]
  },
  {
   "cell_type": "code",
   "execution_count": null,
   "id": "5ca501ba",
   "metadata": {},
   "outputs": [],
   "source": [
    "mdsystem.save('equilibrated.pdb')"
   ]
  },
  {
   "cell_type": "code",
   "execution_count": null,
   "id": "8087ea19",
   "metadata": {},
   "outputs": [],
   "source": [
    "# NPT equilibration, to get the correct volume\n",
    "mdsystem.buildSimulation(filePrefix=f\"NPT_run\", ensemble='NPT',\n",
    "                         saveStateData=True, stateDataInterval=500)\n",
    "mdsystem.simulate(1000*picoseconds)\n",
    "mdsystem.save('post_NPT.pdb')"
   ]
  },
  {
   "cell_type": "code",
   "execution_count": null,
   "id": "c83fa7e3",
   "metadata": {},
   "outputs": [],
   "source": [
    "# NVT production run, no E field\n",
    "pdbfile = PDBFile('post_NPT.pdb')\n",
    "mdsystem = MDSystem(pdbfile.topology, pdbfile.positions, forcefield)\n",
    "mdsystem.buildSimulation(filePrefix=f\"NVT_run\", ensemble='NVT',\n",
    "                         saveTrajectory=True, trajInterval=500, saveVelocities=True,\n",
    "                         saveStateData=True, stateDataInterval=500)\n",
    "mdsystem.simulate(1000*picoseconds)\n",
    "mdsystem.save('post_NVT.pdb')"
   ]
  },
  {
   "cell_type": "code",
   "execution_count": null,
   "id": "1abe0fad",
   "metadata": {},
   "outputs": [],
   "source": [
    "import mdtraj\n",
    "import numpy as np\n",
    "\n",
    "traj = mdtraj.load('NVT_run.h5')\n",
    "traj[::20].save('NVT_movie.pdb')"
   ]
  },
  {
   "cell_type": "code",
   "execution_count": null,
   "id": "452f80c3",
   "metadata": {},
   "outputs": [],
   "source": [
    "for reporter in mdsystem.simulation.reporters:\n",
    "    try:\n",
    "        reporter.close()\n",
    "    except:\n",
    "        continue"
   ]
  },
  {
   "cell_type": "code",
   "execution_count": null,
   "id": "dffb8aa4",
   "metadata": {},
   "outputs": [],
   "source": [
    "# NVT production run, E field at 1MV/cm\n",
    "field_strength = 1e8 # V/m\n",
    "pdbfile = PDBFile('post_NPT.pdb')\n",
    "mdsystem = MDSystem(pdbfile.topology, pdbfile.positions, forcefield)\n",
    "mdsystem.buildSimulation(filePrefix=f\"NVT_EF_run\", ensemble='NVT',\n",
    "                         efx=True, ef=(field_strength, 0, 0),\n",
    "                         saveTrajectory=True, trajInterval=500, saveVelocities=True,\n",
    "                         saveStateData=True, stateDataInterval=500)\n",
    "mdsystem.simulate(1000*picoseconds)\n",
    "mdsystem.save('NVT_EF_run.pdb')"
   ]
  },
  {
   "cell_type": "code",
   "execution_count": null,
   "id": "ab2eb55d",
   "metadata": {},
   "outputs": [],
   "source": []
  }
 ],
 "metadata": {
  "kernelspec": {
   "display_name": "Python [conda env:openmm2]",
   "language": "python",
   "name": "conda-env-openmm2-py"
  },
  "language_info": {
   "codemirror_mode": {
    "name": "ipython",
    "version": 3
   },
   "file_extension": ".py",
   "mimetype": "text/x-python",
   "name": "python",
   "nbconvert_exporter": "python",
   "pygments_lexer": "ipython3",
   "version": "3.9.12"
  }
 },
 "nbformat": 4,
 "nbformat_minor": 5
}
